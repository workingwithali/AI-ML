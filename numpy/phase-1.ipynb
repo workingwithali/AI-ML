{
 "cells": [
  {
   "cell_type": "markdown",
   "id": "eca9ef14",
   "metadata": {},
   "source": [
    "## first \n"
   ]
  },
  {
   "cell_type": "code",
   "execution_count": null,
   "id": "a90e6cc0",
   "metadata": {
    "vscode": {
     "languageId": "plaintext"
    }
   },
   "outputs": [],
   "source": [
    "print(\"hello word\")"
   ]
  },
  {
   "cell_type": "code",
   "execution_count": null,
   "id": "43204591",
   "metadata": {
    "vscode": {
     "languageId": "plaintext"
    }
   },
   "outputs": [],
   "source": []
  }
 ],
 "metadata": {
  "language_info": {
   "name": "python"
  }
 },
 "nbformat": 4,
 "nbformat_minor": 5
}
